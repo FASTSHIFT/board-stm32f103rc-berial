{
 "cells": [
  {
   "cell_type": "code",
   "execution_count": 5,
   "metadata": {},
   "outputs": [],
   "source": [
    "parcel = [ # weight,value\n",
    "    [65, 27],\n",
    "    [39, 82],\n",
    "    [9, 85],\n",
    "    [72, 71],\n",
    "    [87, 91],\n",
    "    [91, 28],\n",
    "    [34, 92],\n",
    "    [58, 79],\n",
    "    [3, 27],\n",
    "    [12, 82],\n",
    "    [92, 15],\n",
    "    [39, 49],\n",
    "    [83, 54],\n",
    "    [76, 43],\n",
    "    [6, 26],\n",
    "    [77, 2],\n",
    "    [68, 6],\n",
    "    [24, 60],\n",
    "    [60, 47],\n",
    "    [6, 40],\n",
    "    [91, 58],\n",
    "    [44, 68],\n",
    "    [50, 33],\n",
    "    [91, 92],\n",
    "    [57, 62],\n",
    "    [97, 49],\n",
    "    [96, 68],\n",
    "    [39, 77],\n",
    "    [89, 6],\n",
    "    [24, 97]\n",
    "]\n",
    "\n",
    "bestfit = [int(i) for i in list(\"011100110100011111110110000101\")]"
   ]
  },
  {
   "cell_type": "code",
   "execution_count": 11,
   "metadata": {},
   "outputs": [
    {
     "name": "stdout",
     "output_type": "stream",
     "text": [
      "698 990 17\n"
     ]
    }
   ],
   "source": [
    "weight = 0\n",
    "value = 0\n",
    "count = 0 \n",
    "for i,ok in enumerate(bestfit):\n",
    "    if ok:\n",
    "        weight+=parcel[i][0]\n",
    "        value+=parcel[i][1]\n",
    "        count+=1\n",
    "print(weight,value,count)"
   ]
  }
 ],
 "metadata": {
  "kernelspec": {
   "display_name": "Python 3.10.2 64-bit",
   "language": "python",
   "name": "python3"
  },
  "language_info": {
   "codemirror_mode": {
    "name": "ipython",
    "version": 3
   },
   "file_extension": ".py",
   "mimetype": "text/x-python",
   "name": "python",
   "nbconvert_exporter": "python",
   "pygments_lexer": "ipython3",
   "version": "3.10.2"
  },
  "orig_nbformat": 4,
  "vscode": {
   "interpreter": {
    "hash": "3196968d684371006099b3d55edeef8ed90365227a30deaef86e5d4aa8519be0"
   }
  }
 },
 "nbformat": 4,
 "nbformat_minor": 2
}
